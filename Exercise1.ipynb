{
  "nbformat": 4,
  "nbformat_minor": 0,
  "metadata": {
    "colab": {
      "name": "Exercise1.ipynb",
      "provenance": [],
      "collapsed_sections": [],
      "authorship_tag": "ABX9TyOprYDG5OLi69J6yCw/tXQU",
      "include_colab_link": true
    },
    "kernelspec": {
      "display_name": "Python 3",
      "name": "python3"
    }
  },
  "cells": [
    {
      "cell_type": "markdown",
      "metadata": {
        "id": "view-in-github",
        "colab_type": "text"
      },
      "source": [
        "<a href=\"https://colab.research.google.com/github/Md-razvi/firstrepo/blob/branch1/Exercise1.ipynb\" target=\"_parent\"><img src=\"https://colab.research.google.com/assets/colab-badge.svg\" alt=\"Open In Colab\"/></a>"
      ]
    },
    {
      "cell_type": "code",
      "metadata": {
        "colab": {
          "base_uri": "https://localhost:8080/"
        },
        "id": "s20sK5zXlMvw",
        "outputId": "79a72ccb-43e1-459f-e241-8e122eb579d4"
      },
      "source": [
        "class Mazaher:\r\n",
        "    def __init__(abc,age,weight,number):\r\n",
        "      abc.age=age\r\n",
        "      abc.weight=weight\r\n",
        "      abc.number=number\r\n",
        "      print(\"age\",age)\r\n",
        "      print(\"weight\",weight)\r\n",
        "    def __add__(abc,other):\r\n",
        "      sum=abc.number+other.number\r\n",
        "      return sum\r\n",
        "\r\n",
        "hello=Mazaher(23,45,8)\r\n",
        "hi=Mazaher(45,78,9)\r\n",
        "sum=hello+hi\r\n",
        "sum\r\n",
        "\r\n",
        "\r\n",
        "\r\n"
      ],
      "execution_count": null,
      "outputs": [
        {
          "output_type": "stream",
          "text": [
            "age 23\n",
            "weight 45\n",
            "age 45\n",
            "weight 78\n"
          ],
          "name": "stdout"
        },
        {
          "output_type": "execute_result",
          "data": {
            "text/plain": [
              "17"
            ]
          },
          "metadata": {
            "tags": []
          },
          "execution_count": 4
        }
      ]
    },
    {
      "cell_type": "code",
      "metadata": {
        "colab": {
          "base_uri": "https://localhost:8080/"
        },
        "id": "iAjYb-hb0G8S",
        "outputId": "82d637aa-0418-4dde-9446-95d6012fc6c1"
      },
      "source": [
        "#Modifying operator from plus to Minus\r\n",
        "class Test:\r\n",
        "    def __init__(self,number):\r\n",
        "      self.number=number\r\n",
        "      print(\"num =\",number)\r\n",
        "    def __add__(self,other):\r\n",
        "      sum=self.number-other.number\r\n",
        "      return sum\r\n",
        "Test1=Test(5)\r\n",
        "Test2=Test(6)\r\n",
        "sum=Test1+Test2 # Since I modified the sum  by substracting the numbers  \r\n",
        "sum             # The answer would be negative or less number"
      ],
      "execution_count": null,
      "outputs": [
        {
          "output_type": "stream",
          "text": [
            "num = 5\n",
            "num = 6\n"
          ],
          "name": "stdout"
        },
        {
          "output_type": "execute_result",
          "data": {
            "text/plain": [
              "-1"
            ]
          },
          "metadata": {
            "tags": []
          },
          "execution_count": 17
        }
      ]
    },
    {
      "cell_type": "code",
      "metadata": {
        "colab": {
          "base_uri": "https://localhost:8080/"
        },
        "id": "0PspjJPa2OZh",
        "outputId": "74367061-c2d2-452c-9768-6972eb618f8a"
      },
      "source": [
        "#Inheritance  \r\n",
        "class Test_2(Test):\r\n",
        "    def __init__(self,number):\r\n",
        "      self.number=number\r\n",
        "\r\n",
        "Test3=Test_2(9)\r\n",
        "Test4=Test_2(7)\r\n",
        "#Here the Modified function __add__ is inherited from parent class \r\n",
        "Sume=Test3+Test4\r\n",
        "Sume"
      ],
      "execution_count": null,
      "outputs": [
        {
          "output_type": "execute_result",
          "data": {
            "text/plain": [
              "2"
            ]
          },
          "metadata": {
            "tags": []
          },
          "execution_count": 21
        }
      ]
    },
    {
      "cell_type": "code",
      "metadata": {
        "id": "oMQdkUsh2F-K"
      },
      "source": [
        ""
      ],
      "execution_count": null,
      "outputs": []
    }
  ]
}