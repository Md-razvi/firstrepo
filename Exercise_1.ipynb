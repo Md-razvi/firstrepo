{
  "nbformat": 4,
  "nbformat_minor": 0,
  "metadata": {
    "colab": {
      "name": "Exercise_1",
      "provenance": [],
      "authorship_tag": "ABX9TyMvgHPftaKq479wyWiJRW6g",
      "include_colab_link": true
    },
    "kernelspec": {
      "name": "python3",
      "display_name": "Python 3"
    }
  },
  "cells": [
    {
      "cell_type": "markdown",
      "metadata": {
        "id": "view-in-github",
        "colab_type": "text"
      },
      "source": [
        "<a href=\"https://colab.research.google.com/github/Md-razvi/firstrepo/blob/main/Exercise_1.ipynb\" target=\"_parent\"><img src=\"https://colab.research.google.com/assets/colab-badge.svg\" alt=\"Open In Colab\"/></a>"
      ]
    },
    {
      "cell_type": "code",
      "metadata": {
        "id": "tYj0viwuDJSL"
      },
      "source": [
        "# print for loop from -5 to 5 funtion"
      ],
      "execution_count": null,
      "outputs": []
    },
    {
      "cell_type": "code",
      "metadata": {
        "colab": {
          "base_uri": "https://localhost:8080/"
        },
        "id": "3jZfV2lEDRWP",
        "outputId": "de632bc8-c7d1-4654-845b-d205c2dd13cb"
      },
      "source": [
        "for number in range(-5,5):\r\n",
        "  print(number)"
      ],
      "execution_count": 3,
      "outputs": [
        {
          "output_type": "stream",
          "text": [
            "-5\n",
            "-4\n",
            "-3\n",
            "-2\n",
            "-1\n",
            "0\n",
            "1\n",
            "2\n",
            "3\n",
            "4\n"
          ],
          "name": "stdout"
        }
      ]
    },
    {
      "cell_type": "code",
      "metadata": {
        "id": "Z5zKy6XKIjYJ"
      },
      "source": [
        "#if program for license"
      ],
      "execution_count": null,
      "outputs": []
    },
    {
      "cell_type": "code",
      "metadata": {
        "colab": {
          "base_uri": "https://localhost:8080/"
        },
        "id": "4VyJTAd2IumV",
        "outputId": "4fb276b6-def7-4dac-a1f5-58900441b1d5"
      },
      "source": [
        "age=20\r\n",
        "if age>18:\r\n",
        "  print(\"the person is elligible for license\")\r\n",
        "else:\r\n",
        "  print(\"The person is not elligible \")\r\n"
      ],
      "execution_count": 4,
      "outputs": [
        {
          "output_type": "stream",
          "text": [
            "the person is elligible for license\n"
          ],
          "name": "stdout"
        }
      ]
    }
  ]
}