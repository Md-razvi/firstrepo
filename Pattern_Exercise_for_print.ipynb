{
  "nbformat": 4,
  "nbformat_minor": 0,
  "metadata": {
    "colab": {
      "name": "Pattern_Exercise_for_print ",
      "provenance": [],
      "collapsed_sections": [],
      "authorship_tag": "ABX9TyO+mxeLqw3+JijEQpvKhjJg",
      "include_colab_link": true
    },
    "kernelspec": {
      "name": "python3",
      "display_name": "Python 3"
    }
  },
  "cells": [
    {
      "cell_type": "markdown",
      "metadata": {
        "id": "view-in-github",
        "colab_type": "text"
      },
      "source": [
        "<a href=\"https://colab.research.google.com/github/Md-razvi/firstrepo/blob/main/Pattern_Exercise_for_print.ipynb\" target=\"_parent\"><img src=\"https://colab.research.google.com/assets/colab-badge.svg\" alt=\"Open In Colab\"/></a>"
      ]
    },
    {
      "cell_type": "code",
      "metadata": {
        "id": "LJ4jJ_hIDK7I",
        "colab": {
          "base_uri": "https://localhost:8080/"
        },
        "outputId": "3587eaf1-fa15-496c-c9e9-ca46c060c06b"
      },
      "source": [
        "#Pattern Exercise_1 \r\n",
        "print(\"Enter the given number to create a triangle\")\r\n",
        "a=int(input())\r\n",
        "num=1;\r\n",
        "for x in range(0,a):\r\n",
        "  for b in range(num):\r\n",
        "    print(\"*\",end=\" \")\r\n",
        "  num=num+1\r\n",
        "  print(\" \")"
      ],
      "execution_count": null,
      "outputs": [
        {
          "output_type": "stream",
          "text": [
            "Enter the given number to create a triangle\n",
            "7\n",
            "*  \n",
            "* *  \n",
            "* * *  \n",
            "* * * *  \n",
            "* * * * *  \n",
            "* * * * * *  \n",
            "* * * * * * *  \n"
          ],
          "name": "stdout"
        }
      ]
    },
    {
      "cell_type": "code",
      "metadata": {
        "colab": {
          "base_uri": "https://localhost:8080/"
        },
        "id": "5WdNtxM0C2kf",
        "outputId": "7f8e5b06-ee45-4092-d05c-50efa74b0dd2"
      },
      "source": [
        "#Pattern Exercise_2 \r\n",
        "print(\"Enter the given number to create a triangle\")\r\n",
        "b=int(input())\r\n",
        "number=1\r\n",
        "p=b\r\n",
        "for x in range(0,b):\r\n",
        "  for a in range(0,p):\r\n",
        "    print(\" \",end=\" \")\r\n",
        "  for c in range(0,number):\r\n",
        "    print(\" * \",end=\" \")\r\n",
        "  number=number+1\r\n",
        "  p=p-1\r\n",
        "  print(\" \")\r\n",
        "\r\n"
      ],
      "execution_count": null,
      "outputs": [
        {
          "output_type": "stream",
          "text": [
            "Enter the given number to create a triangle\n",
            "5\n",
            "           *   \n",
            "         *   *   \n",
            "       *   *   *   \n",
            "     *   *   *   *   \n",
            "   *   *   *   *   *   \n"
          ],
          "name": "stdout"
        }
      ]
    },
    {
      "cell_type": "code",
      "metadata": {
        "colab": {
          "base_uri": "https://localhost:8080/"
        },
        "id": "9XwkKIkWHJv9",
        "outputId": "fb4a1da4-b91c-47ad-9519-13d4f0b68904"
      },
      "source": [
        "#Pattern Exercise_3\r\n",
        "print(\"Enter the given number to create a triangle\")\r\n",
        "b=int(input())\r\n",
        "number=1\r\n",
        "p=b\r\n",
        "for x in range(0,b):\r\n",
        "  for a in range(0,p):\r\n",
        "    print(\" \",end=\" \")\r\n",
        "  for c in range(0,number):\r\n",
        "    print(\"*\",end=\" \")\r\n",
        "  number=number+1\r\n",
        "  p=p-1\r\n",
        "  print(\" \")"
      ],
      "execution_count": null,
      "outputs": [
        {
          "output_type": "stream",
          "text": [
            "Enter the given number to create a triangle\n",
            "5\n",
            "          *  \n",
            "        * *  \n",
            "      * * *  \n",
            "    * * * *  \n",
            "  * * * * *  \n"
          ],
          "name": "stdout"
        }
      ]
    },
    {
      "cell_type": "code",
      "metadata": {
        "colab": {
          "base_uri": "https://localhost:8080/"
        },
        "id": "xs3zd3gnHenQ",
        "outputId": "538f2316-48c1-4698-f311-6902b1454962"
      },
      "source": [
        "#Pattern Exercise_4\r\n",
        "print(\"Enter the given number to create a triangle\")\r\n",
        "b=int(input())\r\n",
        "p=b\r\n",
        "number=1\r\n",
        "for x in range(0,b):\r\n",
        "  for d in range(0,p):\r\n",
        "   print(\"*\",end=\" \")\r\n",
        "  for c in range(0,number):\r\n",
        "   print(\" \",end=\" \")\r\n",
        "  p-=1\r\n",
        "  number+=1\r\n",
        "  print(\" \")\r\n",
        "\r\n",
        "  \r\n"
      ],
      "execution_count": null,
      "outputs": [
        {
          "output_type": "stream",
          "text": [
            "Enter the given number to create a triangle\n",
            "5\n",
            "* * * * *    \n",
            "* * * *      \n",
            "* * *        \n",
            "* *          \n",
            "*            \n"
          ],
          "name": "stdout"
        }
      ]
    },
    {
      "cell_type": "code",
      "metadata": {
        "colab": {
          "base_uri": "https://localhost:8080/"
        },
        "id": "QELOFDXELMaH",
        "outputId": "10e32869-206b-4018-ee69-3769596c32e5"
      },
      "source": [
        "#Pattern Exercise_5\r\n",
        "print(\"Enter the given number create a triangle\")\r\n",
        "b=int(input())\r\n",
        "number=0\r\n",
        "p=b\r\n",
        "for x in range(b):\r\n",
        " for x in range(0,number):\r\n",
        "  print(\" \",end=\" \")\r\n",
        " for x in range(0,p):\r\n",
        "  print(\" * \",end=\" \")\r\n",
        " number=number+1\r\n",
        " p=p-1\r\n",
        " print(\" \")"
      ],
      "execution_count": null,
      "outputs": [
        {
          "output_type": "stream",
          "text": [
            "Enter the given number create a triangle\n",
            "7\n",
            " *   *   *   *   *   *   *   \n",
            "   *   *   *   *   *   *   \n",
            "     *   *   *   *   *   \n",
            "       *   *   *   *   \n",
            "         *   *   *   \n",
            "           *   *   \n",
            "             *   \n"
          ],
          "name": "stdout"
        }
      ]
    }
  ]
}