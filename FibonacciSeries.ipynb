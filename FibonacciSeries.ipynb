{
  "nbformat": 4,
  "nbformat_minor": 0,
  "metadata": {
    "colab": {
      "name": "FibonacciSeries ",
      "provenance": [],
      "collapsed_sections": [],
      "authorship_tag": "ABX9TyOgDM2d7QMzP/+jf9n4gd5i",
      "include_colab_link": true
    },
    "kernelspec": {
      "name": "python3",
      "display_name": "Python 3"
    }
  },
  "cells": [
    {
      "cell_type": "markdown",
      "metadata": {
        "id": "view-in-github",
        "colab_type": "text"
      },
      "source": [
        "<a href=\"https://colab.research.google.com/github/Md-razvi/firstrepo/blob/main/FibonacciSeries.ipynb\" target=\"_parent\"><img src=\"https://colab.research.google.com/assets/colab-badge.svg\" alt=\"Open In Colab\"/></a>"
      ]
    },
    {
      "cell_type": "code",
      "metadata": {
        "colab": {
          "base_uri": "https://localhost:8080/"
        },
        "id": "5MYD2k3LlSeS",
        "outputId": "27b55cad-dac8-4b6b-8cf0-55ab161311b5"
      },
      "source": [
        "#Fibonaci Series\r\n",
        "print(\"Fibonacci Series\")\r\n",
        "a=int(input())\r\n",
        "firstnumber=0\r\n",
        "secondnumber=1\r\n",
        "thirdnumber=0 #for referance\r\n",
        "while a>0:\r\n",
        "  if thirdnumber==0:\r\n",
        "    thirdnumber=firstnumber+secondnumber\r\n",
        "    print(firstnumber,secondnumber,thirdnumber,end=\" \")\r\n",
        "  else:\r\n",
        "    firstnumber=secondnumber\r\n",
        "    secondnumber=thirdnumber\r\n",
        "    thirdnumber=firstnumber+secondnumber\r\n",
        "    print(thirdnumber,end=\" \")\r\n",
        "  a-=1\r\n",
        "  \r\n",
        "  \r\n",
        "  \r\n",
        "\r\n",
        "\r\n",
        "\r\n",
        " \r\n",
        "\r\n"
      ],
      "execution_count": 26,
      "outputs": [
        {
          "output_type": "stream",
          "text": [
            "Fibonacci Series\n",
            "7\n",
            "0 1 1 2 3 5 8 13 21 "
          ],
          "name": "stdout"
        }
      ]
    }
  ]
}