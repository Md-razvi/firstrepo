{
  "nbformat": 4,
  "nbformat_minor": 0,
  "metadata": {
    "colab": {
      "name": "Compare_Construct",
      "provenance": [],
      "authorship_tag": "ABX9TyMyAFmMRV29EpSq5PjBqMPR",
      "include_colab_link": true
    },
    "kernelspec": {
      "name": "python3",
      "display_name": "Python 3"
    }
  },
  "cells": [
    {
      "cell_type": "markdown",
      "metadata": {
        "id": "view-in-github",
        "colab_type": "text"
      },
      "source": [
        "<a href=\"https://colab.research.google.com/github/Md-razvi/firstrepo/blob/branch1/Compare_Construct.ipynb\" target=\"_parent\"><img src=\"https://colab.research.google.com/assets/colab-badge.svg\" alt=\"Open In Colab\"/></a>"
      ]
    },
    {
      "cell_type": "code",
      "metadata": {
        "colab": {
          "base_uri": "https://localhost:8080/"
        },
        "id": "ErKKEk-i4pOa",
        "outputId": "c012e397-6881-4842-9be0-7dcacb23742f"
      },
      "source": [
        "class Tweet:\r\n",
        "    def __init__(self,message,time):\r\n",
        "      self.message=message\r\n",
        "      self.time=time\r\n",
        "    def __lt__(self,other):\r\n",
        "      return self.time<other.time\r\n",
        "    def __gt__(self,other):\r\n",
        "      return self.time>other.time\r\n",
        "\r\n",
        "Tweet1=Tweet(\"Hello this is first tweet\",20)\r\n",
        "Tweet2=Tweet(\"Hello this is second tweet\",1000)\r\n",
        "Compare=Tweet1<Tweet2\r\n",
        "Compare"
      ],
      "execution_count": 4,
      "outputs": [
        {
          "output_type": "execute_result",
          "data": {
            "text/plain": [
              "True"
            ]
          },
          "metadata": {
            "tags": []
          },
          "execution_count": 4
        }
      ]
    }
  ]
}